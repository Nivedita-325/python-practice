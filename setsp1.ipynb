{
  "nbformat": 4,
  "nbformat_minor": 0,
  "metadata": {
    "colab": {
      "name": "setsp1.ipynb",
      "provenance": [],
      "authorship_tag": "ABX9TyNNiVBJiDUqhC/mA9M2NY41",
      "include_colab_link": true
    },
    "kernelspec": {
      "name": "python3",
      "display_name": "Python 3"
    },
    "language_info": {
      "name": "python"
    }
  },
  "cells": [
    {
      "cell_type": "markdown",
      "metadata": {
        "id": "view-in-github",
        "colab_type": "text"
      },
      "source": [
        "<a href=\"https://colab.research.google.com/github/Nivedita-325/python-practice/blob/main/setsp1.ipynb\" target=\"_parent\"><img src=\"https://colab.research.google.com/assets/colab-badge.svg\" alt=\"Open In Colab\"/></a>"
      ]
    },
    {
      "cell_type": "code",
      "execution_count": 5,
      "metadata": {
        "colab": {
          "base_uri": "https://localhost:8080/"
        },
        "id": "rHwGJCUJ0zwD",
        "outputId": "30d3ae6d-9b52-4b3c-9d5f-b12f61e1a6a8"
      },
      "outputs": [
        {
          "output_type": "stream",
          "name": "stdout",
          "text": [
            "{'apple', 'cherry', 'banana'}\n",
            "3\n",
            "<class 'set'>\n",
            "apple\n",
            "cherry\n",
            "banana\n",
            "True\n"
          ]
        }
      ],
      "source": [
        "s1 = {\"apple\", \"banana\", \"cherry\"}\n",
        "print(s1)\n",
        "print(len(s1))\n",
        "print(type(s1))\n",
        "for x in s1:\n",
        "  print(x)\n",
        "print(\"banana\" in s1)"
      ]
    },
    {
      "cell_type": "code",
      "source": [
        "s2 = {\"apple\", \"banana\", \"cherry\"}\n",
        "s2.add(\"orange\")\n",
        "print(s2)\n",
        "set2 = {\"apple\", \"banana\", \"cherry\"}\n",
        "set3 = {\"pineapple\", \"mango\", \"papaya\"}\n",
        "set2.update(set3)\n",
        "print(set2)\n",
        "thisset = {\"apple\", \"banana\", \"cherry\"}\n",
        "mylist = [\"kiwi\", \"orange\"]\n",
        "thisset.update(mylist)\n",
        "print(thisset)"
      ],
      "metadata": {
        "colab": {
          "base_uri": "https://localhost:8080/"
        },
        "id": "tHx2MJ0S2p9N",
        "outputId": "46130c25-3f0d-4586-f8d4-9950c5eae919"
      },
      "execution_count": 8,
      "outputs": [
        {
          "output_type": "stream",
          "name": "stdout",
          "text": [
            "{'orange', 'apple', 'cherry', 'banana'}\n",
            "{'mango', 'apple', 'papaya', 'pineapple', 'cherry', 'banana'}\n",
            "{'kiwi', 'orange', 'apple', 'cherry', 'banana'}\n"
          ]
        }
      ]
    }
  ]
}