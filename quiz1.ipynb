{
  "nbformat": 4,
  "nbformat_minor": 0,
  "metadata": {
    "colab": {
      "name": "quiz1.ipynb",
      "provenance": [],
      "authorship_tag": "ABX9TyNqBcsKrVpWDR7j+BwojvR0",
      "include_colab_link": true
    },
    "kernelspec": {
      "name": "python3",
      "display_name": "Python 3"
    },
    "language_info": {
      "name": "python"
    }
  },
  "cells": [
    {
      "cell_type": "markdown",
      "metadata": {
        "id": "view-in-github",
        "colab_type": "text"
      },
      "source": [
        "<a href=\"https://colab.research.google.com/github/Nivedita-325/python-practice/blob/main/quiz1.ipynb\" target=\"_parent\"><img src=\"https://colab.research.google.com/assets/colab-badge.svg\" alt=\"Open In Colab\"/></a>"
      ]
    },
    {
      "cell_type": "code",
      "execution_count": 9,
      "metadata": {
        "colab": {
          "base_uri": "https://localhost:8080/"
        },
        "id": "Tpf_-NI_cSBj",
        "outputId": "f2d58d67-6391-465b-8c05-5a69b092464d"
      },
      "outputs": [
        {
          "output_type": "stream",
          "name": "stdout",
          "text": [
            "['Red', 'Orange', 'Yellow', 'Black', 'Green']\n"
          ]
        }
      ],
      "source": [
        "##Add Black color to the given list in the 4th place.\n",
        "Rainbow = ['Red', 'Orange', 'Yellow', 'Green'] \n",
        "Rainbow[3]='Black'\n",
        "Rainbow.append('Green')\n",
        "print(Rainbow)"
      ]
    },
    {
      "cell_type": "markdown",
      "source": [
        ""
      ],
      "metadata": {
        "id": "k37DOLRHikEd"
      }
    },
    {
      "cell_type": "markdown",
      "source": [
        "Write a program of swapping of two numbers "
      ],
      "metadata": {
        "id": "uM3BG7Fzh1F3"
      }
    },
    {
      "cell_type": "code",
      "source": [
        "a=2\n",
        "b=3\n",
        "c=a\n",
        "a=b\n",
        "b=c\n",
        "print(\"Result =\",a,b)"
      ],
      "metadata": {
        "colab": {
          "base_uri": "https://localhost:8080/"
        },
        "id": "vjXEdmTEhMiv",
        "outputId": "6c9fcbc0-4347-4cfb-c4f3-78cb1a56c934"
      },
      "execution_count": 5,
      "outputs": [
        {
          "output_type": "stream",
          "name": "stdout",
          "text": [
            "Result = 3 2\n"
          ]
        }
      ]
    },
    {
      "cell_type": "markdown",
      "source": [
        "Find out the square root of the number\n",
        "\n"
      ],
      "metadata": {
        "id": "oNVc7kKXhsqd"
      }
    },
    {
      "cell_type": "code",
      "source": [
        "a=4\n",
        "sqr=(a)**1/2\n",
        "print(sqr)"
      ],
      "metadata": {
        "colab": {
          "base_uri": "https://localhost:8080/"
        },
        "id": "lA1nZvyNhSDG",
        "outputId": "3e1d8d47-a632-4c12-ad45-3e61f4c79cdd"
      },
      "execution_count": 6,
      "outputs": [
        {
          "output_type": "stream",
          "name": "stdout",
          "text": [
            "2.0\n"
          ]
        }
      ]
    },
    {
      "cell_type": "markdown",
      "source": [
        "Find out the Largest of three numbers from the give input\n"
      ],
      "metadata": {
        "id": "SgtU5vwAh8lm"
      }
    },
    {
      "cell_type": "code",
      "source": [
        "a=5\n",
        "b=3\n",
        "c=2\n",
        "if a>b and a>c:\n",
        " print(a)\n",
        "elif b>a and b>c:\n",
        " print(b)\n",
        "else:\n",
        " print(c)"
      ],
      "metadata": {
        "colab": {
          "base_uri": "https://localhost:8080/"
        },
        "id": "dvaE95cVhYjd",
        "outputId": "c7e88110-8f3d-43ba-c688-14f9d6c1f626"
      },
      "execution_count": 7,
      "outputs": [
        {
          "output_type": "stream",
          "name": "stdout",
          "text": [
            "5\n"
          ]
        }
      ]
    }
  ]
}