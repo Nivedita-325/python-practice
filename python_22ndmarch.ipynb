{
  "nbformat": 4,
  "nbformat_minor": 0,
  "metadata": {
    "colab": {
      "name": "python 22ndmarch.ipynb",
      "provenance": [],
      "authorship_tag": "ABX9TyPj9NAXK44ZJ5szugnMvNbG",
      "include_colab_link": true
    },
    "kernelspec": {
      "name": "python3",
      "display_name": "Python 3"
    },
    "language_info": {
      "name": "python"
    }
  },
  "cells": [
    {
      "cell_type": "markdown",
      "metadata": {
        "id": "view-in-github",
        "colab_type": "text"
      },
      "source": [
        "<a href=\"https://colab.research.google.com/github/Nivedita-325/python-practice/blob/main/python_22ndmarch.ipynb\" target=\"_parent\"><img src=\"https://colab.research.google.com/assets/colab-badge.svg\" alt=\"Open In Colab\"/></a>"
      ]
    },
    {
      "cell_type": "code",
      "execution_count": 3,
      "metadata": {
        "colab": {
          "base_uri": "https://localhost:8080/"
        },
        "id": "xPfw32PULFgh",
        "outputId": "6038723a-3646-4abb-d5c6-32c22a7da025"
      },
      "outputs": [
        {
          "output_type": "stream",
          "name": "stdout",
          "text": [
            "Enter a number: 3\n",
            "The factorial of 3 is 6\n"
          ]
        }
      ],
      "source": [
        "##Find factorial of a number\n",
        "num = int(input(\"Enter a number: \"))    \n",
        "factorial = 1    \n",
        "if num < 0:    \n",
        "   print(\" Factorial does not exist for negative numbers\")    \n",
        "elif num == 0:    \n",
        "   print(\"The factorial of 0 is 1\")    \n",
        "else:    \n",
        "   for i in range(1,num + 1):    \n",
        "       factorial = factorial*i    \n",
        "   print(\"The factorial of\",num,\"is\",factorial)   "
      ]
    },
    {
      "cell_type": "code",
      "source": [
        "##Find Roots of a Quadratic Equation\n",
        "a=int(input())\n",
        "b = int(input())\n",
        "c = int(input())\n",
        "d = (b**2) - (4*a*c)\n",
        "r1 = (-b-c*(d**1/2))/(2*a)\n",
        "r2 = (-b+c*(d**1/2))/(2*a)\n",
        "print(r1,r2)"
      ],
      "metadata": {
        "colab": {
          "base_uri": "https://localhost:8080/"
        },
        "id": "2FSQw7UEgpOi",
        "outputId": "bec5faa5-47a5-40a0-d302-ec790eb43c99"
      },
      "execution_count": 4,
      "outputs": [
        {
          "output_type": "stream",
          "name": "stdout",
          "text": [
            "2\n",
            "3\n",
            "6\n",
            "28.5 -30.0\n"
          ]
        }
      ]
    },
    {
      "cell_type": "code",
      "source": [
        "##Check whether number is a palindrome or not\n",
        "num=int(input(\"Enter a number:\"))\n",
        "a=num\n",
        "rev=0\n",
        "while(num>0):\n",
        "    dig=num%10\n",
        "    rev=rev*10+dig\n",
        "    num=num//10\n",
        "if(a==rev):\n",
        "    print(\"The number is palindrome!\")\n",
        "else:\n",
        "    print(\"Not a palindrome!\")"
      ],
      "metadata": {
        "colab": {
          "base_uri": "https://localhost:8080/"
        },
        "id": "L-MH5frtg6-3",
        "outputId": "c5e3c6b4-18dd-4bf7-a1d0-5ee4f5dc230c"
      },
      "execution_count": 5,
      "outputs": [
        {
          "output_type": "stream",
          "name": "stdout",
          "text": [
            "Enter a number:1001\n",
            "The number is palindrome!\n"
          ]
        }
      ]
    },
    {
      "cell_type": "code",
      "source": [
        "##Check whether number is perfect or not\n",
        "num=int(input(\"Enter a number:\"))\n",
        "sum=0\n",
        "for i in range(1, num):\n",
        "    if(num % i == 0):\n",
        "        sum = sum + i\n",
        "if (sum == num):\n",
        "    print(\"Perfect Number\")\n",
        "else:\n",
        "    print(\"not a Perfect Number\")\n",
        "\n"
      ],
      "metadata": {
        "colab": {
          "base_uri": "https://localhost:8080/"
        },
        "id": "qqGuwfiUhrbX",
        "outputId": "c5c9cb10-3f27-47c9-e3c5-c97794f1b3e8"
      },
      "execution_count": 7,
      "outputs": [
        {
          "output_type": "stream",
          "name": "stdout",
          "text": [
            "Enter a number:6 \n",
            "Perfect Number\n"
          ]
        }
      ]
    },
    {
      "cell_type": "code",
      "source": [
        "## print pattern\n",
        "n=int(input())\n",
        "i=0\n",
        "while i < n :\n",
        "  i=i+1\n",
        "  print(i*\"*\")"
      ],
      "metadata": {
        "colab": {
          "base_uri": "https://localhost:8080/"
        },
        "id": "AUgzNYk6jOWs",
        "outputId": "249adca1-5be9-4634-ee80-1eb526e6352f"
      },
      "execution_count": 8,
      "outputs": [
        {
          "output_type": "stream",
          "name": "stdout",
          "text": [
            "3\n",
            "*\n",
            "**\n",
            "***\n"
          ]
        }
      ]
    },
    {
      "cell_type": "code",
      "source": [
        ""
      ],
      "metadata": {
        "id": "_WxR0tnyjk8l"
      },
      "execution_count": 11,
      "outputs": []
    }
  ]
}