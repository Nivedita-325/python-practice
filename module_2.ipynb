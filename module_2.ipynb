{
  "nbformat": 4,
  "nbformat_minor": 0,
  "metadata": {
    "colab": {
      "name": "module 2.ipynb",
      "provenance": [],
      "authorship_tag": "ABX9TyM8QYHIaPmAnQRFd2tQ7n4S",
      "include_colab_link": true
    },
    "kernelspec": {
      "name": "python3",
      "display_name": "Python 3"
    },
    "language_info": {
      "name": "python"
    }
  },
  "cells": [
    {
      "cell_type": "markdown",
      "metadata": {
        "id": "view-in-github",
        "colab_type": "text"
      },
      "source": [
        "<a href=\"https://colab.research.google.com/github/Nivedita-325/python-practice/blob/module2/module_2.ipynb\" target=\"_parent\"><img src=\"https://colab.research.google.com/assets/colab-badge.svg\" alt=\"Open In Colab\"/></a>"
      ]
    },
    {
      "cell_type": "markdown",
      "source": [
        "Create a function which accepts two inputs from the user and compute n\n",
        "Cr"
      ],
      "metadata": {
        "id": "CkG0uxmI7XuC"
      }
    },
    {
      "cell_type": "code",
      "execution_count": null,
      "metadata": {
        "colab": {
          "base_uri": "https://localhost:8080/"
        },
        "id": "B6v92k3uG0fA",
        "outputId": "363516bd-740a-4f57-9e39-ef47f9a86929"
      },
      "outputs": [
        {
          "name": "stdout",
          "output_type": "stream",
          "text": [
            "5\n",
            "2\n"
          ]
        },
        {
          "output_type": "execute_result",
          "data": {
            "text/plain": [
              "10.0"
            ]
          },
          "metadata": {},
          "execution_count": 2
        }
      ],
      "source": [
        "def nCr(n, r):\n",
        "    return (fact(n) / (fact(r)\n",
        "                * fact(n - r)))\n",
        "def fact(n):\n",
        "    res = 1    \n",
        "    for i in range(2, n+1):\n",
        "        res = res * i     \n",
        "    return res\n",
        "nCr(n=int(input()),r=int(input()))"
      ]
    },
    {
      "cell_type": "markdown",
      "source": [
        "Program to print a specified list after removing the 0th, 4th and 5th elements. \n"
      ],
      "metadata": {
        "id": "zX8ZhFA970d-"
      }
    },
    {
      "cell_type": "code",
      "source": [
        "list= ['Red', 'Green', 'White', 'Black', 'Pink', 'Yellow'] \n",
        "list.pop(5)\n",
        "list.pop(4)\n",
        "list.pop(0)\n",
        "print(list)"
      ],
      "metadata": {
        "colab": {
          "base_uri": "https://localhost:8080/"
        },
        "id": "ZPRA_yPlMK9Z",
        "outputId": "fe357390-5e60-43f5-d31d-ee2db21f8234"
      },
      "execution_count": null,
      "outputs": [
        {
          "output_type": "stream",
          "name": "stdout",
          "text": [
            "['Green', 'White', 'Black']\n"
          ]
        }
      ]
    },
    {
      "cell_type": "markdown",
      "source": [
        "Program to get the difference between the two lists."
      ],
      "metadata": {
        "id": "XbV63Asj784O"
      }
    },
    {
      "cell_type": "code",
      "source": [
        "l1= ['Red', 'Green', 'White', 'Black', 'Pink', 'Yellow'] \n",
        "l2= ['Red', 'Green', 'White', 'Black']\n",
        "x=set(l1)\n",
        "y=set(l2)\n",
        "z=x.difference(y)\n",
        "print(z)\n",
        "\n",
        "\n"
      ],
      "metadata": {
        "colab": {
          "base_uri": "https://localhost:8080/"
        },
        "id": "-GgYQaKvNjPf",
        "outputId": "28f25f13-4aa3-4b05-ecae-cbb50f25bc78"
      },
      "execution_count": null,
      "outputs": [
        {
          "output_type": "stream",
          "name": "stdout",
          "text": [
            "{'Yellow', 'Pink'}\n"
          ]
        }
      ]
    },
    {
      "cell_type": "markdown",
      "source": [
        "Program to find the second smallest number and second largest number in a list"
      ],
      "metadata": {
        "id": "C0WqjU5M8D9U"
      }
    },
    {
      "cell_type": "code",
      "source": [
        "list=[1,2,3,4,5]\n",
        "length=len(list)\n",
        "list.sort()\n",
        "print(list)\n",
        "print(\"Second Largest element is:\", list[length-2])\n",
        "print(\"Second Smallest element is:\", list[1])\n",
        "\n",
        "\n"
      ],
      "metadata": {
        "colab": {
          "base_uri": "https://localhost:8080/"
        },
        "id": "dAUUg9jsQnl3",
        "outputId": "301751af-9b09-4254-dfd8-fdacf83df2ca"
      },
      "execution_count": null,
      "outputs": [
        {
          "output_type": "stream",
          "name": "stdout",
          "text": [
            "[1, 2, 3, 4, 5]\n",
            "Second Largest element is: 4\n",
            "Second Smallest element is: 2\n"
          ]
        }
      ]
    },
    {
      "cell_type": "markdown",
      "source": [
        "Given a list of numbers of list, write a Python program to create a list of tuples\n",
        "having first element as the number and second element as the square of the\n",
        "number.\n"
      ],
      "metadata": {
        "id": "RCCnIcgf8Kc2"
      }
    },
    {
      "cell_type": "code",
      "source": [
        "list = [23, 42, 67, 89, 11, 32]\n",
        "print(list)\n",
        "result = [(val, pow(val, 2)) for val in list]\n",
        "print(result)"
      ],
      "metadata": {
        "colab": {
          "base_uri": "https://localhost:8080/"
        },
        "id": "5BT2zWO3U7T_",
        "outputId": "1a2e0cc5-427b-4d80-b383-5dbee4f314e3"
      },
      "execution_count": null,
      "outputs": [
        {
          "output_type": "stream",
          "name": "stdout",
          "text": [
            "[23, 42, 67, 89, 11, 32]\n",
            "[(23, 529), (42, 1764), (67, 4489), (89, 7921), (11, 121), (32, 1024)]\n"
          ]
        }
      ]
    },
    {
      "cell_type": "markdown",
      "source": [
        "Given list of tuples, remove all the tuples with length K. "
      ],
      "metadata": {
        "id": "cWOxsGjR8V2R"
      }
    },
    {
      "cell_type": "code",
      "source": [
        "list = [(32, 51), (22,13 ), (94, 65, 77), (70, ), (80, 61, 13, 17)]\n",
        "print(list)\n",
        "K = 2\n",
        "result = [x for x in list if len(x) != K]\n",
        "print(result)"
      ],
      "metadata": {
        "colab": {
          "base_uri": "https://localhost:8080/"
        },
        "id": "M473OPf5WRmo",
        "outputId": "435a0ad4-ee71-467f-c7b8-b9e5fc03d78e"
      },
      "execution_count": null,
      "outputs": [
        {
          "output_type": "stream",
          "name": "stdout",
          "text": [
            "[(32, 51), (22, 13), (94, 65, 77), (70,), (80, 61, 13, 17)]\n",
            "[(94, 65, 77), (70,), (80, 61, 13, 17)]\n"
          ]
        }
      ]
    },
    {
      "cell_type": "markdown",
      "source": [
        " Program to generate and print a dictionary that contains a number (between 1\n",
        "and n) in the form (x, x*x). \n"
      ],
      "metadata": {
        "id": "Weiyk9w58dDO"
      }
    },
    {
      "cell_type": "code",
      "source": [
        "n=int(input(\"Input a number \"))\n",
        "d = dict()\n",
        "for x in range(1,n+1):\n",
        "    d[x]=x*x\n",
        "print(d) "
      ],
      "metadata": {
        "colab": {
          "base_uri": "https://localhost:8080/"
        },
        "id": "hsYy0w-iXL8o",
        "outputId": "2595ba3d-07c8-4eed-e059-8e75d20740e9"
      },
      "execution_count": null,
      "outputs": [
        {
          "output_type": "stream",
          "name": "stdout",
          "text": [
            "Input a number 10\n",
            "{1: 1, 2: 4, 3: 9, 4: 16, 5: 25, 6: 36, 7: 49, 8: 64, 9: 81, 10: 100}\n"
          ]
        }
      ]
    },
    {
      "cell_type": "markdown",
      "source": [
        "Program to remove a key from a dictionary"
      ],
      "metadata": {
        "id": "3hn1GxF48nFn"
      }
    },
    {
      "cell_type": "code",
      "source": [
        "D = {'a':1,'b':2,'c':3,'d':4}\n",
        "print(D)\n",
        "if 'a' in D: \n",
        "    del D['a']\n",
        "print(D)"
      ],
      "metadata": {
        "colab": {
          "base_uri": "https://localhost:8080/"
        },
        "id": "t7XfQeVMmmbY",
        "outputId": "2043d2c5-23c9-4699-f665-c0081e712a5c"
      },
      "execution_count": null,
      "outputs": [
        {
          "output_type": "stream",
          "name": "stdout",
          "text": [
            "{'a': 1, 'b': 2, 'c': 3, 'd': 4}\n",
            "{'b': 2, 'c': 3, 'd': 4}\n"
          ]
        }
      ]
    },
    {
      "cell_type": "markdown",
      "source": [
        "Program to perform operations on string using unicodes ,splitting of string,accessing\n",
        "elements of string using locations\n"
      ],
      "metadata": {
        "id": "8LOv049s8yZU"
      }
    },
    {
      "cell_type": "code",
      "source": [
        "a='Nivedita, Kanithi'\n",
        "print(a)\n",
        "print(len(a))\n",
        "print(a[2:5])\n",
        "print(a.split(\",\"))"
      ],
      "metadata": {
        "colab": {
          "base_uri": "https://localhost:8080/"
        },
        "id": "jbfiE8dApQ-9",
        "outputId": "86555300-6792-4be8-eb02-4e73b199dfa8"
      },
      "execution_count": null,
      "outputs": [
        {
          "output_type": "stream",
          "name": "stdout",
          "text": [
            "Nivedita, Kanithi\n",
            "17\n",
            "ved\n",
            "['Nivedita', ' Kanithi']\n"
          ]
        }
      ]
    },
    {
      "cell_type": "markdown",
      "source": [
        "Program for Counting occurrence of a certain element in a string, getting indexes that\n",
        "have matching elements\n"
      ],
      "metadata": {
        "id": "pOhzBAc088Bo"
      }
    },
    {
      "cell_type": "code",
      "source": [
        "message = 'I have to go to a doctor and get myself checked.'\n",
        "print('Number of occurrence of to:', message.count('to'))\n"
      ],
      "metadata": {
        "colab": {
          "base_uri": "https://localhost:8080/"
        },
        "id": "bz_AuSZ8qFO0",
        "outputId": "40fd605f-3323-4a3c-81ac-5c6955565d57"
      },
      "execution_count": null,
      "outputs": [
        {
          "output_type": "stream",
          "name": "stdout",
          "text": [
            "Number of occurrence of to: 3\n"
          ]
        }
      ]
    },
    {
      "cell_type": "markdown",
      "source": [
        "Program for replacing one substring by another "
      ],
      "metadata": {
        "id": "r68hnc1z9HoK"
      }
    },
    {
      "cell_type": "code",
      "source": [
        "txt = \"Rabbit\"\n",
        "x = txt.replace(\"b\", \"c\")\n",
        "print(x)"
      ],
      "metadata": {
        "colab": {
          "base_uri": "https://localhost:8080/"
        },
        "id": "9FvZZSE-tNo6",
        "outputId": "3bfb5e45-3dd1-4a90-a664-9765d9577455"
      },
      "execution_count": null,
      "outputs": [
        {
          "output_type": "stream",
          "name": "stdout",
          "text": [
            "Raccit\n"
          ]
        }
      ]
    },
    {
      "cell_type": "markdown",
      "source": [
        "Program to Acronym generator for any user input"
      ],
      "metadata": {
        "id": "F1Zhwu909OF1"
      }
    },
    {
      "cell_type": "code",
      "source": [
        "user_input = input(\"Enter a phrase: \")\n",
        "phrase = (user_input.replace('of', '')).split()\n",
        "acronym = \"\"\n",
        "for word in phrase:\n",
        "    acronym = acronym + word[0].upper()\n",
        "print(f'Acronym of {user_input} is {acronym}')"
      ],
      "metadata": {
        "id": "-1p5yRDmtkhQ",
        "colab": {
          "base_uri": "https://localhost:8080/"
        },
        "outputId": "7ef94b36-55f7-4b03-9969-f86ab179917f"
      },
      "execution_count": null,
      "outputs": [
        {
          "output_type": "stream",
          "name": "stdout",
          "text": [
            "Enter a phrase:  Random memory access \n",
            "Acronym of  Random memory access  is RMA\n"
          ]
        }
      ]
    },
    {
      "cell_type": "markdown",
      "source": [
        "Program to get the maximum and minimum value in a dictionary\n"
      ],
      "metadata": {
        "id": "DZNyaNo39T9w"
      }
    },
    {
      "cell_type": "code",
      "source": [
        "dictionary = {\"a\": 5, \"b\": 2, \"c\": 8}\n",
        " \n",
        "max_key=max(dictionary, key=dictionary.get)\n",
        "min_key = min(dictionary, key=dictionary.get)\n",
        "print(max_key)\n",
        "print(min_key)\n",
        "\n",
        "print(dictionary.get(max_key)) \n",
        "print(dictionary.get(min_key))"
      ],
      "metadata": {
        "colab": {
          "base_uri": "https://localhost:8080/"
        },
        "id": "4heqyzW_5YOh",
        "outputId": "fd6d9336-4a40-4bae-f659-8565383d6c57"
      },
      "execution_count": null,
      "outputs": [
        {
          "output_type": "stream",
          "name": "stdout",
          "text": [
            "c\n",
            "b\n",
            "8\n",
            "2\n"
          ]
        }
      ]
    },
    {
      "cell_type": "markdown",
      "source": [
        "Python function that accepts a string and calculates the number of uppercase\n",
        "letters and lowercase letters.\n"
      ],
      "metadata": {
        "id": "CRr7yZSP9j1s"
      }
    },
    {
      "cell_type": "code",
      "source": [
        "string=input(\"Enter string:\")\n",
        "count1=0\n",
        "count2=0\n",
        "for i in string:\n",
        "      if(i.islower()):\n",
        "            count1=count1+1\n",
        "      elif(i.isupper()):\n",
        "            count2=count2+1\n",
        "print(\"The number of lowercase characters is:\")\n",
        "print(count1)\n",
        "print(\"The number of uppercase characters is:\")\n",
        "print(count2)"
      ],
      "metadata": {
        "colab": {
          "base_uri": "https://localhost:8080/"
        },
        "id": "FUxR8OTwwCSs",
        "outputId": "5504f126-104c-4cad-828a-994ddf85e2bc"
      },
      "execution_count": null,
      "outputs": [
        {
          "output_type": "stream",
          "name": "stdout",
          "text": [
            "Enter string: Random memory access \n",
            "The number of lowercase characters is:\n",
            "17\n",
            "The number of uppercase characters is:\n",
            "1\n"
          ]
        }
      ]
    },
    {
      "cell_type": "markdown",
      "source": [
        "Program to count the number of strings where the string length is 2 or more and\n",
        "the first and last character are same from a given list of strings \n"
      ],
      "metadata": {
        "id": "4yiMzc7X900c"
      }
    },
    {
      "cell_type": "code",
      "source": [
        "def match_words(words):\n",
        "  d = 0\n",
        "  for word in words:\n",
        "    if len(word) > 1 and word[0] == word[-1]:\n",
        "      d += 1\n",
        "  return d\n",
        "\n",
        "print(match_words(['abc', 'xyz', 'aba', '1221']))\n"
      ],
      "metadata": {
        "colab": {
          "base_uri": "https://localhost:8080/"
        },
        "id": "fTGbWa1Mwpmz",
        "outputId": "702f74dd-d5dd-4857-9e12-6d1361b47785"
      },
      "execution_count": null,
      "outputs": [
        {
          "output_type": "stream",
          "name": "stdout",
          "text": [
            "2\n"
          ]
        }
      ]
    }
  ]
}