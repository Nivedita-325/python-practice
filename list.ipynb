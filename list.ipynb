{
  "nbformat": 4,
  "nbformat_minor": 0,
  "metadata": {
    "colab": {
      "name": "list.ipynb",
      "provenance": [],
      "authorship_tag": "ABX9TyN6a0IWHKw6g5zu3Yr95x84",
      "include_colab_link": true
    },
    "kernelspec": {
      "name": "python3",
      "display_name": "Python 3"
    },
    "language_info": {
      "name": "python"
    }
  },
  "cells": [
    {
      "cell_type": "markdown",
      "metadata": {
        "id": "view-in-github",
        "colab_type": "text"
      },
      "source": [
        "<a href=\"https://colab.research.google.com/github/Nivedita-325/python-practice/blob/main/list.ipynb\" target=\"_parent\"><img src=\"https://colab.research.google.com/assets/colab-badge.svg\" alt=\"Open In Colab\"/></a>"
      ]
    },
    {
      "cell_type": "code",
      "execution_count": 41,
      "metadata": {
        "colab": {
          "base_uri": "https://localhost:8080/"
        },
        "id": "t5wTYgudtFo_",
        "outputId": "807f2e03-2a79-480d-b6af-d34f9682cc09"
      },
      "outputs": [
        {
          "output_type": "stream",
          "name": "stdout",
          "text": [
            "mango\n",
            "['mango', 'apple']\n",
            "strawbwerry\n",
            "strawbwerry\n",
            "['mango', 'apple', 'orange']\n",
            "['papayya', 'strawbwerry']\n",
            "['mango', 'apple', 'orange', 'papayya', 'strawbwerry', 'cherry']\n",
            "6\n",
            "['mango', 'apple', 'litchi', 'orange', 'papayya', 'strawbwerry', 'cherry']\n",
            "7\n",
            "<class 'list'>\n",
            "['cherry', 'strawbwerry', 'papayya', 'orange', 'litchi', 'apple', 'mango']\n",
            "['apple', 'cherry', 'litchi', 'mango', 'orange', 'papayya', 'strawbwerry']\n",
            "['apple', 'cherry', 'mango', 'orange', 'papayya', 'strawbwerry']\n",
            "['apple', 'cherry', 'mango', 'orange', 'papayya', 'strawbwerry']\n",
            "[]\n"
          ]
        }
      ],
      "source": [
        "fruit=[\"mango\",\"apple\",\"orange\",\"papayya\",\"strawbwerry\"]\n",
        "print(fruit[0])\n",
        "print(fruit[0:2])\n",
        "print(fruit[4])\n",
        "print(fruit[-1])\n",
        "print(fruit[:3])##index 0 to index 3\n",
        "print(fruit[3:])##index 3 to end\n",
        "fruit.append(\"cherry\")\n",
        "print(fruit[0:])\n",
        "print(len(fruit))\n",
        "fruit.insert(2,\"litchi\")\n",
        "print(fruit[0:])\n",
        "print(len(fruit))\n",
        "print(type(fruit))\n",
        "fruit.reverse()\n",
        "print(fruit[0:])\n",
        "fruit.sort()\n",
        "print(fruit)\n",
        "fruit.pop(2)\n",
        "print(fruit)\n",
        "b=fruit.copy()\n",
        "print(b)\n",
        "b.clear()\n",
        "print(b)"
      ]
    },
    {
      "cell_type": "code",
      "source": [
        "for i in range(3, 4) :\n",
        " print(i)\n",
        " for i in range(2, 12, 3) :\n",
        "  print(i)"
      ],
      "metadata": {
        "colab": {
          "base_uri": "https://localhost:8080/"
        },
        "id": "vsdrMcg33eQA",
        "outputId": "86713517-2c9b-458d-d5dc-2ea2e678aac4"
      },
      "execution_count": 25,
      "outputs": [
        {
          "output_type": "stream",
          "name": "stdout",
          "text": [
            "3\n",
            "2\n",
            "5\n",
            "8\n",
            "11\n"
          ]
        }
      ]
    },
    {
      "cell_type": "code",
      "source": [
        ""
      ],
      "metadata": {
        "id": "Ood5Znld4qYY"
      },
      "execution_count": null,
      "outputs": []
    },
    {
      "cell_type": "code",
      "source": [
        "list = ['p','r','o','g','r','a','m','i','z']\n",
        "print(list[2:5])\n",
        "print(list[5:])\n",
        "print(list[:])\n",
        "print(list[:5])"
      ],
      "metadata": {
        "colab": {
          "base_uri": "https://localhost:8080/"
        },
        "id": "7KEvQIEUwy7K",
        "outputId": "795bc0e7-7caa-4089-f27e-7ca0d40b2883"
      },
      "execution_count": 10,
      "outputs": [
        {
          "output_type": "stream",
          "name": "stdout",
          "text": [
            "['o', 'g', 'r']\n",
            "['a', 'm', 'i', 'z']\n",
            "['p', 'r', 'o', 'g', 'r', 'a', 'm', 'i', 'z']\n",
            "['p', 'r', 'o', 'g', 'r']\n"
          ]
        }
      ]
    },
    {
      "cell_type": "code",
      "source": [
        "odd=[2,4,6,8]\n",
        "print(odd)\n",
        "odd[0]=1\n",
        "print(odd)\n",
        "odd[1:4]=[3,5,7]\n",
        "print(odd)"
      ],
      "metadata": {
        "colab": {
          "base_uri": "https://localhost:8080/"
        },
        "id": "KjSx7_dJzeFy",
        "outputId": "91e8569d-311a-40e3-925b-62dfce5ad309"
      },
      "execution_count": 13,
      "outputs": [
        {
          "output_type": "stream",
          "name": "stdout",
          "text": [
            "[2, 4, 6, 8]\n",
            "[1, 4, 6, 8]\n",
            "[1, 3, 5, 7]\n"
          ]
        }
      ]
    },
    {
      "cell_type": "code",
      "source": [
        "a=[10,12,14]\n",
        "b=[12,14,15]\n"
      ],
      "metadata": {
        "id": "bEu83gfn0HGR"
      },
      "execution_count": null,
      "outputs": []
    }
  ]
}