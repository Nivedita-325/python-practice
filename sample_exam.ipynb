{
  "nbformat": 4,
  "nbformat_minor": 0,
  "metadata": {
    "colab": {
      "name": "sample exam.ipynb",
      "provenance": [],
      "authorship_tag": "ABX9TyPixvzeE8LCgMvaOncqAFtd",
      "include_colab_link": true
    },
    "kernelspec": {
      "name": "python3",
      "display_name": "Python 3"
    },
    "language_info": {
      "name": "python"
    }
  },
  "cells": [
    {
      "cell_type": "markdown",
      "metadata": {
        "id": "view-in-github",
        "colab_type": "text"
      },
      "source": [
        "<a href=\"https://colab.research.google.com/github/Nivedita-325/python-practice/blob/main/sample_exam.ipynb\" target=\"_parent\"><img src=\"https://colab.research.google.com/assets/colab-badge.svg\" alt=\"Open In Colab\"/></a>"
      ]
    },
    {
      "cell_type": "code",
      "execution_count": 1,
      "metadata": {
        "colab": {
          "base_uri": "https://localhost:8080/"
        },
        "id": "9XLyiK1oGYbG",
        "outputId": "5935144c-c0ea-4d36-eeb6-82df117a5bee"
      },
      "outputs": [
        {
          "output_type": "stream",
          "name": "stdout",
          "text": [
            "12\n",
            "12\n",
            "44\n",
            "-20\n",
            "14400\n",
            "11.0\n"
          ]
        }
      ],
      "source": [
        "a=int(input())\n",
        "b=int(input())\n",
        "c=10\n",
        "d=10\n",
        "add=a+b+c+d\n",
        "sub=a-b-c-d\n",
        "mul=a*b*c*d\n",
        "avg=add/4\n",
        "print(add)\n",
        "print(sub)\n",
        "print(mul)\n",
        "print(avg)"
      ]
    },
    {
      "cell_type": "code",
      "source": [
        "list=['apple','banana']\n",
        "list.append('straw')\n",
        "list.append('blue')\n",
        "list.append('berry')\n",
        "list.append('strr')\n",
        "list.append('sam')\n",
        "print(list)\n",
        "list.insert(1,'nivedita')\n",
        "print(list)\n",
        "list.remove('banana')\n",
        "print(list)"
      ],
      "metadata": {
        "colab": {
          "base_uri": "https://localhost:8080/"
        },
        "id": "yBWXd9T0HfeM",
        "outputId": "40cd6187-b723-40a7-fce5-5cae4587ad82"
      },
      "execution_count": 3,
      "outputs": [
        {
          "output_type": "stream",
          "name": "stdout",
          "text": [
            "['apple', 'banana', 'straw', 'blue', 'berry', 'strr', 'sam']\n",
            "['apple', 'nivedita', 'banana', 'straw', 'blue', 'berry', 'strr', 'sam']\n",
            "['apple', 'nivedita', 'straw', 'blue', 'berry', 'strr', 'sam']\n"
          ]
        }
      ]
    },
    {
      "cell_type": "code",
      "source": [
        "list=['apple','banana']\n",
        "list.insert(1,'nivedita')\n",
        "print(list)\n",
        "list.remove('banana')\n",
        "print(list)\n",
        "list.append('straw')\n",
        "list.append('blue')\n",
        "list.append('berry')\n",
        "list.append('strr')\n",
        "list.append('sam')\n",
        "print(list)\n"
      ],
      "metadata": {
        "colab": {
          "base_uri": "https://localhost:8080/"
        },
        "id": "H21VVA_nK_8q",
        "outputId": "1b740de6-7d9a-4edc-984f-b9a9bdc2e52f"
      },
      "execution_count": 4,
      "outputs": [
        {
          "output_type": "stream",
          "name": "stdout",
          "text": [
            "['apple', 'nivedita', 'banana']\n",
            "['apple', 'nivedita']\n",
            "['apple', 'nivedita', 'straw', 'blue', 'berry', 'strr', 'sam']\n"
          ]
        }
      ]
    }
  ]
}