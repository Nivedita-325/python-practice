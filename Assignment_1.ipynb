{
  "cells": [
    {
      "cell_type": "markdown",
      "metadata": {
        "id": "view-in-github",
        "colab_type": "text"
      },
      "source": [
        "<a href=\"https://colab.research.google.com/github/Nivedita-325/python-practice/blob/main/Assignment_1.ipynb\" target=\"_parent\"><img src=\"https://colab.research.google.com/assets/colab-badge.svg\" alt=\"Open In Colab\"/></a>"
      ]
    },
    {
      "cell_type": "markdown",
      "metadata": {
        "id": "Ohh_cqBKv1GW"
      },
      "source": [
        "Accept input from user and store it in variable and print the value"
      ]
    },
    {
      "cell_type": "code",
      "execution_count": null,
      "metadata": {
        "colab": {
          "base_uri": "https://localhost:8080/"
        },
        "id": "HPxzyPdFwBsh",
        "outputId": "011e2048-ae71-480b-968b-d2ed1aac5c3c"
      },
      "outputs": [
        {
          "name": "stdout",
          "output_type": "stream",
          "text": [
            "5\n",
            "5\n"
          ]
        }
      ],
      "source": [
        "a=input()\n",
        "print(a)"
      ]
    },
    {
      "cell_type": "markdown",
      "metadata": {
        "id": "V0LuzEJK6kqC"
      },
      "source": [
        "Use of print statements and use of (.format )for printing different data types"
      ]
    },
    {
      "cell_type": "code",
      "execution_count": 20,
      "metadata": {
        "colab": {
          "base_uri": "https://localhost:8080/"
        },
        "id": "-cVflovS6pXu",
        "outputId": "3a3d91d9-326e-4ad4-c898-3355bb19b7d6"
      },
      "outputs": [
        {
          "output_type": "stream",
          "name": "stdout",
          "text": [
            "<class 'float'>\n",
            "10.5\n",
            "<class 'str'>\n",
            "10\n",
            "<class 'int'>\n",
            "True\n",
            "<class 'bool'>\n",
            "(10.5+0j)\n",
            "<class 'complex'>\n"
          ]
        }
      ],
      "source": [
        "a=10.5;\n",
        "print(type(a));\n",
        "#before conversion\n",
        "b=str(a);\n",
        "print(b);\n",
        "print(type(b));\n",
        "#after conversion\n",
        "c=int(a);\n",
        "print(c);\n",
        "print(type(c));\n",
        "d=bool(a);\n",
        "print(d);\n",
        "print(type(d));\n",
        "e=complex(a);\n",
        "print(e);\n",
        "print(type(e));"
      ]
    },
    {
      "cell_type": "markdown",
      "metadata": {
        "id": "NiM9r9YMwOLg"
      },
      "source": [
        "Take 2 numbers as user input and add, multiply, divide, subtract, remainder and print the output"
      ]
    },
    {
      "cell_type": "code",
      "execution_count": null,
      "metadata": {
        "colab": {
          "base_uri": "https://localhost:8080/"
        },
        "id": "7byMni0fwl9X",
        "outputId": "ce78575a-2a82-4c34-a9c6-be7fc53d1247"
      },
      "outputs": [
        {
          "name": "stdout",
          "output_type": "stream",
          "text": [
            "23\n",
            "24\n",
            "47 552 0.9583333333333334 -1\n"
          ]
        }
      ],
      "source": [
        "a=int(input())\n",
        "b=int(input())\n",
        "sum=a+b\n",
        "multi=a*b\n",
        "div=a/b\n",
        "sub=a-b\n",
        "print(sum,multi,div,sub)"
      ]
    },
    {
      "cell_type": "markdown",
      "metadata": {
        "id": "GHFUZIRQyAeC"
      },
      "source": [
        "Conversion of one unit to another (such as hours to minutes, miles to km and etc)"
      ]
    },
    {
      "cell_type": "code",
      "execution_count": null,
      "metadata": {
        "colab": {
          "base_uri": "https://localhost:8080/"
        },
        "id": "0kyC-670yB0T",
        "outputId": "cad00460-cafd-4894-adfd-ba06a0d955ef"
      },
      "outputs": [
        {
          "name": "stdout",
          "output_type": "stream",
          "text": [
            "10\n",
            "12\n",
            "600 19.31208\n"
          ]
        }
      ],
      "source": [
        "h=int(input())\n",
        "m=int(input())\n",
        "min=h*60\n",
        "km=1.60934*m\n",
        "print(min,km)"
      ]
    },
    {
      "cell_type": "markdown",
      "source": [
        "Usage of mathematical functions in python like math.ceil, floor, fabs, fmod, trunc,pow, sqrt etc"
      ],
      "metadata": {
        "id": "uEiMxEp-LHgd"
      }
    },
    {
      "cell_type": "code",
      "source": [
        "import math\n",
        "print(math.ceil(1.4))\n",
        "print(math.floor(1.4))\n",
        "print(math.fabs(-7))\n",
        "print(math.fmod(20, 4))\n",
        "print(math.trunc(2.77))\n",
        "x = pow(4, 3)\n",
        "print(x)\n",
        "print (math.sqrt(9))\n",
        "\n"
      ],
      "metadata": {
        "colab": {
          "base_uri": "https://localhost:8080/"
        },
        "id": "NR8JsgL-LQqO",
        "outputId": "88495eba-ea93-4c8c-dd47-54e5657f16cc"
      },
      "execution_count": 27,
      "outputs": [
        {
          "output_type": "stream",
          "name": "stdout",
          "text": [
            "2\n",
            "1\n",
            "7.0\n",
            "0.0\n",
            "2\n",
            "64\n",
            "3.0\n"
          ]
        }
      ]
    },
    {
      "cell_type": "markdown",
      "source": [
        "Building a mathematical calculator that can perform operations according to user input."
      ],
      "metadata": {
        "id": "tUj4qz1FNbCR"
      }
    },
    {
      "cell_type": "code",
      "source": [
        "num1 = float(input(\"Enter first number: \"))\n",
        "num2 = float(input(\"Enter second number: \"))\n",
        "print(\"Operation: +, -, *, /\")\n",
        "select = input(\"Select operations: \")\n",
        "if select == \"+\":\n",
        "    print(num1, \"+\", num2, \"=\", num1+num2)\n",
        "elif select == \"-\":\n",
        "    print(num1, \"-\", num2, \"=\", num1-num2)\n",
        "elif select == \"*\":\n",
        "    print(num1, \"*\", num2, \"=\", num1*num2)\n",
        "elif select == \"/\":\n",
        "    print(num1, \"/\", num2, \"=\", num1/num2)\n",
        "else:\n",
        "    print(\"Invalid input\")"
      ],
      "metadata": {
        "colab": {
          "base_uri": "https://localhost:8080/"
        },
        "id": "Qg0DxQTcNc07",
        "outputId": "6632588a-cb6c-4901-9e3c-0e0f78aa0d33"
      },
      "execution_count": 28,
      "outputs": [
        {
          "output_type": "stream",
          "name": "stdout",
          "text": [
            "Enter first number: 13\n",
            "Enter second number: 12\n",
            "Operation: +, -, *, /\n",
            "Select operations: /\n",
            "13.0 / 12.0 = 1.0833333333333333\n"
          ]
        }
      ]
    },
    {
      "cell_type": "markdown",
      "metadata": {
        "id": "xRu3bxi-yM4X"
      },
      "source": [
        "Accepting 5 different subject marks from user and displaying the grade of the student"
      ]
    },
    {
      "cell_type": "code",
      "execution_count": null,
      "metadata": {
        "colab": {
          "base_uri": "https://localhost:8080/"
        },
        "id": "K0rKfaYQyYQ6",
        "outputId": "737efb61-1743-4eed-efe1-7022f817a320"
      },
      "outputs": [
        {
          "name": "stdout",
          "output_type": "stream",
          "text": [
            "100\n",
            "100\n",
            "12\n",
            "12\n",
            "12\n",
            "F\n"
          ]
        }
      ],
      "source": [
        "s1=int(input())\n",
        "s2=int(input())\n",
        "s3=int(input())\n",
        "s4=int(input())\n",
        "s5=int(input())\n",
        "tot=(s1+s2+s3+s4+s5)/5\n",
        "if tot > 90:\n",
        "  print(\"A\")\n",
        "elif tot > 80 :\n",
        "  print(\"B\")\n",
        "elif tot > 70 :\n",
        "  print(\"C\")\n",
        "elif tot > 60 :\n",
        "  print(\"D\")    \n",
        "elif tot > 50 :\n",
        "  print(\"E\")\n",
        "elif tot > 40 :\n",
        "  print(\"F\")"
      ]
    },
    {
      "cell_type": "markdown",
      "metadata": {
        "id": "95c4kYYfylMt"
      },
      "source": [
        "Printing all even numbers, odd numbers, count of even numbers, count of odd numbers within a given range.\n"
      ]
    },
    {
      "cell_type": "code",
      "execution_count": null,
      "metadata": {
        "colab": {
          "base_uri": "https://localhost:8080/"
        },
        "id": "Zu5du3wly2dA",
        "outputId": "0eb2f6e0-57f3-487c-f431-f59f6c94a208"
      },
      "outputs": [
        {
          "name": "stdout",
          "output_type": "stream",
          "text": [
            "5\n",
            "6\n",
            "5\n",
            "0\n",
            "1\n"
          ]
        }
      ],
      "source": [
        "a=int(input())\n",
        "b=int(input())\n",
        "c=0\n",
        "o=0\n",
        "for x in range(a,b):\n",
        "  if(x%2==0) :\n",
        "    print(x)\n",
        "    c=c+1\n",
        "  elif(x%2!=0) :\n",
        "    print(x)\n",
        "    o=o+1\n",
        "print(c)\n",
        "print(o)"
      ]
    },
    {
      "cell_type": "markdown",
      "metadata": {
        "id": "NyiT-iptzCF_"
      },
      "source": [
        "Compute the factorial of a given number"
      ]
    },
    {
      "cell_type": "code",
      "execution_count": null,
      "metadata": {
        "colab": {
          "base_uri": "https://localhost:8080/"
        },
        "id": "pR4gSrkfzX-d",
        "outputId": "07287996-b901-49ff-f687-4be1535bb606"
      },
      "outputs": [
        {
          "name": "stdout",
          "output_type": "stream",
          "text": [
            "Enter a number: 5\n",
            "The factorial of 5 is 120\n"
          ]
        }
      ],
      "source": [
        "num = int(input(\"Enter a number: \"))    \n",
        "factorial = 1    \n",
        "if num < 0:    \n",
        "   print(\" Factorial does not exist for negative numbers\")    \n",
        "elif num == 0:    \n",
        "   print(\"The factorial of 0 is 1\")    \n",
        "else:    \n",
        "   for i in range(1,num + 1):    \n",
        "       factorial = factorial*i    \n",
        "   print(\"The factorial of\",num,\"is\",factorial) "
      ]
    },
    {
      "cell_type": "markdown",
      "source": [
        " Compute GCD of two given numbers"
      ],
      "metadata": {
        "id": "SiKbJ2gVPrnx"
      }
    },
    {
      "cell_type": "code",
      "source": [
        "x =int(input(\"Enter a number: \")) \n",
        "y =int(input(\"Enter a number: \"))\n",
        "if x > y:\n",
        "  x, y = y, x\n",
        "for i in range(1,x+1):\n",
        "  if x%i == 0 and y%i == 0:\n",
        "    gcd = i\n",
        "\n",
        "print(\"GCD of\", x, \"and\", y, \"is:\", gcd)"
      ],
      "metadata": {
        "colab": {
          "base_uri": "https://localhost:8080/"
        },
        "id": "qsmmgDLFPu32",
        "outputId": "61655b02-bc69-4e99-d486-8f82f36dcb61"
      },
      "execution_count": 31,
      "outputs": [
        {
          "output_type": "stream",
          "name": "stdout",
          "text": [
            "Enter a number: 50\n",
            "Enter a number: 100\n",
            "GCD of 50 and 100 is: 50\n"
          ]
        }
      ]
    },
    {
      "cell_type": "markdown",
      "metadata": {
        "id": "pZ0htDCQ1-fS"
      },
      "source": [
        "Generate Fibonacci series up to N numbers\n"
      ]
    },
    {
      "cell_type": "code",
      "execution_count": null,
      "metadata": {
        "colab": {
          "base_uri": "https://localhost:8080/"
        },
        "id": "ZlydqOlY2AQk",
        "outputId": "91c59ce4-0c10-47d9-99b9-6d504e254c44"
      },
      "outputs": [
        {
          "name": "stdout",
          "output_type": "stream",
          "text": [
            "How many terms? 3\n",
            "Fibonacci sequence:\n",
            "0\n",
            "1\n",
            "1\n"
          ]
        }
      ],
      "source": [
        "nterms = int(input(\"How many terms? \"))\n",
        "n1, n2 = 0, 1\n",
        "count = 0\n",
        "print(\"Fibonacci sequence:\")\n",
        "while count < nterms:\n",
        "       print(n1)\n",
        "       nth = n1 + n2\n",
        "       # update values\n",
        "       n1 = n2\n",
        "       n2 = nth\n",
        "       count += 1"
      ]
    },
    {
      "cell_type": "markdown",
      "metadata": {
        "id": "YL4tpm-O2XjZ"
      },
      "source": [
        "Check whether the given input is  palindrome "
      ]
    },
    {
      "cell_type": "code",
      "execution_count": null,
      "metadata": {
        "colab": {
          "base_uri": "https://localhost:8080/"
        },
        "id": "PSSITPCf2hBU",
        "outputId": "4faf2ed2-7c9e-4a40-9fd7-eb6d67721c36"
      },
      "outputs": [
        {
          "name": "stdout",
          "output_type": "stream",
          "text": [
            "Enter a number:1001\n",
            "The number is palindrome!\n"
          ]
        }
      ],
      "source": [
        "num=int(input(\"Enter a number:\"))\n",
        "a=num\n",
        "rev=0\n",
        "while(num>0):\n",
        "    dig=num%10\n",
        "    rev=rev*10+dig\n",
        "    num=num//10\n",
        "if(a==rev):\n",
        "    print(\"The number is palindrome!\")\n",
        "else:\n",
        "    print(\"Not a palindrome!\")"
      ]
    },
    {
      "cell_type": "markdown",
      "metadata": {
        "id": "dhteK1kJ3BrM"
      },
      "source": [
        "Check whether the given input is strong"
      ]
    },
    {
      "cell_type": "code",
      "execution_count": null,
      "metadata": {
        "colab": {
          "base_uri": "https://localhost:8080/"
        },
        "id": "7tdOBo_P3HeA",
        "outputId": "c0265d8f-9a01-4868-a2cc-6937c964f965"
      },
      "outputs": [
        {
          "name": "stdout",
          "output_type": "stream",
          "text": [
            "Enter a number:16\n",
            "The number is not a strong number\n"
          ]
        }
      ],
      "source": [
        "num=int(input(\"Enter a number:\"))\n",
        "sum=0\n",
        "act=num\n",
        "while(num):\n",
        "    i=1\n",
        "    f=1\n",
        "    r=num%10\n",
        "    while(i<=r):\n",
        "        f=f*i\n",
        "        i=i+1\n",
        "    sum=sum+f\n",
        "    num=num//10\n",
        "if(sum==act):\n",
        "    print(\"The number is a strong number\")\n",
        "else:\n",
        "    print(\"The number is not a strong number\")"
      ]
    },
    {
      "cell_type": "markdown",
      "metadata": {
        "id": "ndZSdybr3hCH"
      },
      "source": [
        "Check whether the given input is perfect"
      ]
    },
    {
      "cell_type": "code",
      "execution_count": null,
      "metadata": {
        "colab": {
          "base_uri": "https://localhost:8080/"
        },
        "id": "I9OTZdL13p2G",
        "outputId": "2a39206f-c23f-4fdf-a30d-3ebba4cb0787"
      },
      "outputs": [
        {
          "name": "stdout",
          "output_type": "stream",
          "text": [
            "Enter a number:12\n",
            "not a Perfect Number\n"
          ]
        }
      ],
      "source": [
        "num=int(input(\"Enter a number:\"))\n",
        "sum=0\n",
        "for i in range(1, num):\n",
        "    if(num % i == 0):\n",
        "        sum = sum + i\n",
        "if (sum == num):\n",
        "    print(\"Perfect Number\")\n",
        "else:\n",
        "    print(\"not a Perfect Number\")"
      ]
    },
    {
      "cell_type": "markdown",
      "source": [
        "Compute compound interest using loop for a certain principal and interest amount"
      ],
      "metadata": {
        "id": "1Z1FjNk3OFS6"
      }
    },
    {
      "cell_type": "code",
      "source": [
        "n=int(input(\"Enter the principle amount:\"))\n",
        "rate=int(input(\"Enter the rate:\"))\n",
        "years=int(input(\"Enter the number of years:\"))\n",
        "for i in range(years):\n",
        "    n=n+((n*rate)/100)\n",
        "print(n)"
      ],
      "metadata": {
        "colab": {
          "base_uri": "https://localhost:8080/"
        },
        "id": "aEdAFzTTOL-M",
        "outputId": "27ccf0fe-2998-4f80-99c5-0a2c49a7337e"
      },
      "execution_count": 30,
      "outputs": [
        {
          "output_type": "stream",
          "name": "stdout",
          "text": [
            "Enter the principle amount:100\n",
            "Enter the rate:2\n",
            "Enter the number of years:2\n",
            "104.04\n"
          ]
        }
      ]
    }
  ],
  "metadata": {
    "colab": {
      "name": "Assignment_1.ipynb",
      "provenance": [],
      "authorship_tag": "ABX9TyNQLxJcHm0khal0Y9/je62Y",
      "include_colab_link": true
    },
    "kernelspec": {
      "display_name": "Python 3",
      "name": "python3"
    },
    "language_info": {
      "name": "python"
    }
  },
  "nbformat": 4,
  "nbformat_minor": 0
}