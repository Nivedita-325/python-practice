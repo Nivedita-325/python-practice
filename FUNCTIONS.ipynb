{
  "nbformat": 4,
  "nbformat_minor": 0,
  "metadata": {
    "colab": {
      "name": "FUNCTIONS.ipynb",
      "provenance": [],
      "authorship_tag": "ABX9TyPJpVtCuMZStxanWgYKPER4",
      "include_colab_link": true
    },
    "kernelspec": {
      "name": "python3",
      "display_name": "Python 3"
    },
    "language_info": {
      "name": "python"
    }
  },
  "cells": [
    {
      "cell_type": "markdown",
      "metadata": {
        "id": "view-in-github",
        "colab_type": "text"
      },
      "source": [
        "<a href=\"https://colab.research.google.com/github/Nivedita-325/python-practice/blob/main/FUNCTIONS.ipynb\" target=\"_parent\"><img src=\"https://colab.research.google.com/assets/colab-badge.svg\" alt=\"Open In Colab\"/></a>"
      ]
    },
    {
      "cell_type": "code",
      "execution_count": 5,
      "metadata": {
        "colab": {
          "base_uri": "https://localhost:8080/"
        },
        "id": "XFuEhraSVBrc",
        "outputId": "883be9eb-a0c8-4939-b689-63001e11e735"
      },
      "outputs": [
        {
          "output_type": "stream",
          "name": "stdout",
          "text": [
            "i\n",
            "am\n",
            "human\n"
          ]
        }
      ],
      "source": [
        "def nivii():\n",
        " print(\"i\")\n",
        " print(\"am\")\n",
        " print(\"human\")\n",
        "nivii()\n",
        "  "
      ]
    },
    {
      "cell_type": "code",
      "source": [
        "def nivii(me):\n",
        "  print(me+\"neetu\")\n",
        "nivii(\"abhi\")\n",
        "nivii(\"abbu\")\n",
        "nivii(\"bujji\")"
      ],
      "metadata": {
        "colab": {
          "base_uri": "https://localhost:8080/"
        },
        "id": "xzaQmPQYZFMV",
        "outputId": "6fbfefc1-6a4f-4db2-8e1e-c281758dfd05"
      },
      "execution_count": 6,
      "outputs": [
        {
          "output_type": "stream",
          "name": "stdout",
          "text": [
            "abhineetu\n",
            "abbuneetu\n",
            "bujjineetu\n"
          ]
        }
      ]
    },
    {
      "cell_type": "code",
      "source": [
        "def vote(age,gender,name):\n",
        " print(\"age=\",age,\"gender=\",gender,\"name=\",name)\n",
        "\n",
        " if age >=18:\n",
        "  print(\"eligible\")\n",
        " else:\n",
        "   print(\"not eligible\")\n",
        "vote(20,\"male\",\"ayush\")\n",
        "  "
      ],
      "metadata": {
        "colab": {
          "base_uri": "https://localhost:8080/"
        },
        "id": "LivjaTlraSVA",
        "outputId": "f951fa2d-a964-4ea9-e031-3b0ecd05ea41"
      },
      "execution_count": 16,
      "outputs": [
        {
          "output_type": "stream",
          "name": "stdout",
          "text": [
            "age= 20 gender= male name= ayush\n",
            "eligible\n"
          ]
        }
      ]
    },
    {
      "cell_type": "code",
      "source": [
        "def vote(age,gender,name):\n",
        " print(\"age=\",age,\"gender=\",gender,\"name=\",name)\n",
        "\n",
        " if age >=18:\n",
        "  print(\"eligible\")\n",
        " else:\n",
        "   print(\"not eligible\")\n",
        "vote(age=int(input()),gender=input(),name=input())"
      ],
      "metadata": {
        "colab": {
          "base_uri": "https://localhost:8080/"
        },
        "id": "6pBGXRy3fr2e",
        "outputId": "04d2cfcf-5d8a-47ac-b414-a852f6aacf2e"
      },
      "execution_count": 19,
      "outputs": [
        {
          "output_type": "stream",
          "name": "stdout",
          "text": [
            "22 \n",
            "abc\n",
            "bcd\n",
            "age= 22 gender= abc name= bcd\n",
            "eligible\n"
          ]
        }
      ]
    },
    {
      "cell_type": "code",
      "source": [
        "a=25.5\n",
        "b=abs(a)\n",
        "print(b)\n",
        "c=13\n",
        "d=pow(c,3)\n",
        "print(d)\n"
      ],
      "metadata": {
        "colab": {
          "base_uri": "https://localhost:8080/"
        },
        "id": "OOtxfdiUdMmI",
        "outputId": "d77d5574-4e04-493c-a361-1806ec7efd61"
      },
      "execution_count": 22,
      "outputs": [
        {
          "output_type": "stream",
          "name": "stdout",
          "text": [
            "25.5\n",
            "2197\n"
          ]
        }
      ]
    }
  ]
}