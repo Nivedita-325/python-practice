{
  "nbformat": 4,
  "nbformat_minor": 0,
  "metadata": {
    "colab": {
      "name": "if-else.ipynb",
      "provenance": [],
      "authorship_tag": "ABX9TyMHVT4y4Oob4y1+Dl5FgTBc",
      "include_colab_link": true
    },
    "kernelspec": {
      "name": "python3",
      "display_name": "Python 3"
    },
    "language_info": {
      "name": "python"
    }
  },
  "cells": [
    {
      "cell_type": "markdown",
      "metadata": {
        "id": "view-in-github",
        "colab_type": "text"
      },
      "source": [
        "<a href=\"https://colab.research.google.com/github/Nivedita-325/python-practice/blob/main/if_else.ipynb\" target=\"_parent\"><img src=\"https://colab.research.google.com/assets/colab-badge.svg\" alt=\"Open In Colab\"/></a>"
      ]
    },
    {
      "cell_type": "code",
      "execution_count": 1,
      "metadata": {
        "colab": {
          "base_uri": "https://localhost:8080/"
        },
        "id": "pczma3dgRQ0M",
        "outputId": "8b4e7a4d-ff39-4b40-d05a-d1fe25396781"
      },
      "outputs": [
        {
          "output_type": "stream",
          "name": "stdout",
          "text": [
            "12\n",
            "12\n",
            "not eligible\n"
          ]
        }
      ],
      "source": [
        "##find out the person is eligible for voting or not\n",
        "a=int(input())\n",
        "print(a)\n",
        "if(a>=18) :\n",
        " print(\"eligible\")\n",
        "else :\n",
        " print(\"not eligible\")"
      ]
    },
    {
      "cell_type": "code",
      "source": [
        "##find max of 3 numbers\n",
        "a=int(input())\n",
        "b=int(input())\n",
        "c=int(input())\n",
        "if(a>b and a>c) :\n",
        "  print(\"a=max\")\n",
        "elif(b>a and b>c) :\n",
        "  print(\"b=max\")\n",
        "else :\n",
        "  print(\"c=max\")\n",
        "\n"
      ],
      "metadata": {
        "colab": {
          "base_uri": "https://localhost:8080/"
        },
        "id": "RCS_OcJgRjSE",
        "outputId": "537a3c7d-962d-40c8-ae62-c12c9eafe368"
      },
      "execution_count": 4,
      "outputs": [
        {
          "output_type": "stream",
          "name": "stdout",
          "text": [
            "2\n",
            "3\n",
            "4\n",
            "c=max\n"
          ]
        }
      ]
    },
    {
      "cell_type": "code",
      "source": [
        "##greatest of 5 numbers\n",
        "a=int(input())\n",
        "b=int(input())\n",
        "c=int(input())\n",
        "d=int(input())\n",
        "e=int(input())\n",
        "if(a>b>c>d>e):\n",
        "  a=max\n",
        "elif(b>a>c>d>e):\n",
        "  b=max\n",
        "elif(c>a>b>d>e):\n",
        "  c=max\n",
        "elif(d>a>c>b>e):\n",
        "  d=max\n",
        "elif(e>a>c>d>b):\n",
        "  e=max\n",
        "print(max)\n",
        "\n",
        "\n",
        "\n",
        "\n"
      ],
      "metadata": {
        "colab": {
          "base_uri": "https://localhost:8080/"
        },
        "id": "5l9IrgGPW97k",
        "outputId": "98501e48-83b8-4121-b9ed-e9b2cdbcd79d"
      },
      "execution_count": 20,
      "outputs": [
        {
          "output_type": "stream",
          "name": "stdout",
          "text": [
            "1\n",
            "2\n",
            "3\n",
            "4\n",
            "5\n",
            "<built-in function max>\n"
          ]
        }
      ]
    },
    {
      "cell_type": "code",
      "source": [
        "##Check whether the triangle is equilateral, isosceles, or scalene triangle\n",
        "a=int(input())\n",
        "b=int(input())\n",
        "c=int(input())\n",
        "if(a==b==c) :\n",
        "  print(\"equilateral\")\n",
        "elif(a==b or a==c) :\n",
        "  print(\"isosceles\")\n",
        "else :\n",
        "  print(\"scalene\")\n"
      ],
      "metadata": {
        "colab": {
          "base_uri": "https://localhost:8080/"
        },
        "id": "JGhvX2BKYUSi",
        "outputId": "e9c779ef-d282-43f0-be27-2ec0606c61ea"
      },
      "execution_count": 22,
      "outputs": [
        {
          "output_type": "stream",
          "name": "stdout",
          "text": [
            "3\n",
            "3\n",
            "4\n",
            "isosceles\n"
          ]
        }
      ]
    },
    {
      "cell_type": "code",
      "source": [
        "##Check whether entered year is a leap year or not\n",
        "a=int(input())\n",
        "if(a%4==0 and a%100!=0 and a%400!=0) :\n",
        "  print(\"leap year\")\n",
        "elif(a%4==0 and a%100==0 and a%400==0) :\n",
        "  print(\"leap year\")\n",
        "else :\n",
        "  print(\"it is not a leap year\") \n",
        "\n",
        "\n"
      ],
      "metadata": {
        "colab": {
          "base_uri": "https://localhost:8080/"
        },
        "id": "nV3WI0NHa5mL",
        "outputId": "f64698c2-78ca-4418-a783-e9e8f254f976"
      },
      "execution_count": 23,
      "outputs": [
        {
          "output_type": "stream",
          "name": "stdout",
          "text": [
            "1200\n",
            "leap year\n"
          ]
        }
      ]
    },
    {
      "cell_type": "code",
      "source": [
        "##Check whether a number is divisible by 5 and 11 or not\n",
        "a=int(input())\n",
        "if(a%5==0 and a%11==0 ) :\n",
        "  print(\"divisible in 5 and 11\")\n",
        "else :\n",
        "  print(\"not divisible\")\n"
      ],
      "metadata": {
        "colab": {
          "base_uri": "https://localhost:8080/"
        },
        "id": "NWU_zwAadcWf",
        "outputId": "33458e65-76ce-4b48-ef9c-e6b94e50c290"
      },
      "execution_count": 26,
      "outputs": [
        {
          "output_type": "stream",
          "name": "stdout",
          "text": [
            "55\n",
            "divisible in 5 and 11\n"
          ]
        }
      ]
    },
    {
      "cell_type": "code",
      "source": [
        ""
      ],
      "metadata": {
        "id": "SUt0Ad2qecHU"
      },
      "execution_count": null,
      "outputs": []
    }
  ]
}