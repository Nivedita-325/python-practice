{
 "cells": [
  {
   "cell_type": "code",
   "execution_count": 1,
   "id": "8c3efe35",
   "metadata": {},
   "outputs": [
    {
     "name": "stdout",
     "output_type": "stream",
     "text": [
      "<class 'int'>\n",
      "10\n",
      "<class 'str'>\n",
      "10.0\n",
      "<class 'float'>\n",
      "True\n",
      "<class 'bool'>\n",
      "(10+0j)\n",
      "<class 'complex'>\n"
     ]
    }
   ],
   "source": [
    "##converting int to string,float,boolean,complex.\n",
    "a=10;\n",
    "print(type(a));\n",
    "#before conversion\n",
    "b=str(a);\n",
    "print(b);\n",
    "print(type(b));\n",
    "#after conversion\n",
    "c=float(a);\n",
    "print(c);\n",
    "print(type(c));\n",
    "d=bool(a);\n",
    "print(d);\n",
    "print(type(d));\n",
    "e=complex(a);\n",
    "print(e);\n",
    "print(type(e))"
   ]
  },
  {
   "cell_type": "code",
   "execution_count": 2,
   "id": "fee6aba2",
   "metadata": {},
   "outputs": [
    {
     "name": "stdout",
     "output_type": "stream",
     "text": [
      "<class 'float'>\n",
      "10.5\n",
      "<class 'str'>\n",
      "10\n",
      "<class 'int'>\n",
      "True\n",
      "<class 'bool'>\n",
      "(10.5+0j)\n",
      "<class 'complex'>\n"
     ]
    }
   ],
   "source": [
    "##converting float to int,string,boolean,complex.\n",
    "a=10.5;\n",
    "print(type(a));\n",
    "#before conversion\n",
    "b=str(a);\n",
    "print(b);\n",
    "print(type(b));\n",
    "#after conversion\n",
    "c=int(a);\n",
    "print(c);\n",
    "print(type(c));\n",
    "d=bool(a);\n",
    "print(d);\n",
    "print(type(d));\n",
    "e=complex(a);\n",
    "print(e);\n",
    "print(type(e));"
   ]
  },
  {
   "cell_type": "code",
   "execution_count": 3,
   "id": "8d176cb9",
   "metadata": {},
   "outputs": [
    {
     "name": "stdout",
     "output_type": "stream",
     "text": [
      "<class 'str'>\n",
      "10\n",
      "<class 'int'>\n",
      "<class 'str'>\n",
      "ten\n",
      "<class 'float'>\n",
      "10.0\n",
      "True\n",
      "<class 'bool'>\n"
     ]
    }
   ],
   "source": [
    "##converting string to int,float,boolean,complex\n",
    "a='10'\n",
    "print(type(a));\n",
    "#before conversion\n",
    "b=int(a);\n",
    "print(b);\n",
    "print(type(b));\n",
    "c='ten'\n",
    "print(type(c))\n",
    "print(c)\n",
    "#cannot convertalphabet to ntegers,only digits\n",
    "#instead of alphabets give 8-9\n",
    "e=float(a)\n",
    "print(type(e))\n",
    "print(e)\n",
    "f=bool(a)\n",
    "print(f)\n",
    "print(type(f))"
   ]
  },
  {
   "cell_type": "code",
   "execution_count": 4,
   "id": "f896322e",
   "metadata": {},
   "outputs": [
    {
     "name": "stdout",
     "output_type": "stream",
     "text": [
      "(10+5j)\n",
      "<class 'complex'>\n",
      "True\n",
      "<class 'bool'>\n"
     ]
    }
   ],
   "source": [
    "##converting complex into boolean\n",
    "a=10+5j\n",
    "print(a)\n",
    "print(type(a))\n",
    "b=bool(a)\n",
    "print(b)\n",
    "print(type(b))"
   ]
  },
  {
   "cell_type": "code",
   "execution_count": null,
   "id": "798f48b9",
   "metadata": {},
   "outputs": [],
   "source": []
  }
 ],
 "metadata": {
  "kernelspec": {
   "display_name": "Python 3 (ipykernel)",
   "language": "python",
   "name": "python3"
  },
  "language_info": {
   "codemirror_mode": {
    "name": "ipython",
    "version": 3
   },
   "file_extension": ".py",
   "mimetype": "text/x-python",
   "name": "python",
   "nbconvert_exporter": "python",
   "pygments_lexer": "ipython3",
   "version": "3.9.7"
  }
 },
 "nbformat": 4,
 "nbformat_minor": 5
}
